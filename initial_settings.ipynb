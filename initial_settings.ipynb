{
 "cells": [
  {
   "cell_type": "code",
   "execution_count": null,
   "id": "076e9521",
   "metadata": {},
   "outputs": [
    {
     "ename": "",
     "evalue": "",
     "output_type": "error",
     "traceback": [
      "\u001b[1;31m运行具有“CodingProjects (3.10.6) (Python 3.10.6)”的单元格需要ipykernel包。\n",
      "\u001b[1;31m将“ipykernel”安装到 Python 环境中。\n",
      "\u001b[1;31m命令:“d:/CodingProjects/Scripts/python.exe -m pip install ipykernel -U --force-reinstall”"
     ]
    }
   ],
   "source": [
    "print(\"hello\")"
   ]
  }
 ],
 "metadata": {
  "kernelspec": {
   "display_name": "CodingProjects (3.10.6)",
   "language": "python",
   "name": "python3"
  },
  "language_info": {
   "name": "python",
   "version": "3.10.6"
  }
 },
 "nbformat": 4,
 "nbformat_minor": 5
}
